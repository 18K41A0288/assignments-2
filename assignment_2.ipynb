{
  "nbformat": 4,
  "nbformat_minor": 0,
  "metadata": {
    "colab": {
      "name": "assignment 2.ipynb",
      "provenance": [],
      "collapsed_sections": []
    },
    "kernelspec": {
      "name": "python3",
      "display_name": "Python 3"
    }
  },
  "cells": [
    {
      "cell_type": "markdown",
      "metadata": {
        "id": "aNyI1hce5it3",
        "colab_type": "text"
      },
      "source": [
        "1.\tArea of Triangle :\n",
        "Given the lengths of three sides of a triangle, calculate the area of the triangle. "
      ]
    },
    {
      "cell_type": "code",
      "metadata": {
        "id": "PrIIqwjVwjL4",
        "colab_type": "code",
        "colab": {
          "base_uri": "https://localhost:8080/",
          "height": 87
        },
        "outputId": "b581b39f-5272-460f-c242-ef3ae947190d"
      },
      "source": [
        "A = float(input('Enter the first side : '))\n",
        "B = float(input('Enter the second side : '))\n",
        "C = float(input('Enter the third side : '))\n",
        "S = (A+B+C)/2\n",
        "a=(S*(S-A)*(S-B)*(S-C)) ** 0.5\n",
        "print('The area of the triangle is',a)"
      ],
      "execution_count": null,
      "outputs": [
        {
          "output_type": "stream",
          "text": [
            "Enter the first side : 2\n",
            "Enter the second side : 3\n",
            "Enter the third side : 4\n",
            "The area of the triangle is 2.9047375096555625\n"
          ],
          "name": "stdout"
        }
      ]
    },
    {
      "cell_type": "markdown",
      "metadata": {
        "id": "I7OmceRA5bEu",
        "colab_type": "text"
      },
      "source": [
        "2.\tTake a string from end user and check if the value is palindrome or not"
      ]
    },
    {
      "cell_type": "code",
      "metadata": {
        "id": "S-6g__-W3kLA",
        "colab_type": "code",
        "colab": {
          "base_uri": "https://localhost:8080/",
          "height": 52
        },
        "outputId": "a7ac3ee3-1d4f-45d7-b634-17d86315bd24"
      },
      "source": [
        "a=input('enter a string : ')\n",
        "b=a[::-1]\n",
        "if a==b:\n",
        "  print(\"string is a palindrome\")\n",
        "else:\n",
        "  print(\"string is a not palindrome\")"
      ],
      "execution_count": null,
      "outputs": [
        {
          "output_type": "stream",
          "text": [
            "enter a string : gog\n",
            "string is a palindrome\n"
          ],
          "name": "stdout"
        }
      ]
    },
    {
      "cell_type": "markdown",
      "metadata": {
        "id": "JuhP7Icd7VXR",
        "colab_type": "text"
      },
      "source": [
        "3.\tWrite a program that reads a year from the user and displays a message \n",
        "Indicating whether or not it is a leap year.\n"
      ]
    },
    {
      "cell_type": "code",
      "metadata": {
        "id": "YFrfriBV4e0R",
        "colab_type": "code",
        "colab": {
          "base_uri": "https://localhost:8080/",
          "height": 52
        },
        "outputId": "f23937f3-7120-49b1-dc60-1f5442b019a0"
      },
      "source": [
        "y=int(input('enter year you want to check : '))\n",
        "if y%4==0:\n",
        "  print(y,'is a leap year')\n",
        "else:\n",
        "  print(y,'is not a leap year')"
      ],
      "execution_count": null,
      "outputs": [
        {
          "output_type": "stream",
          "text": [
            "enter year you want to check : 2000\n",
            "2000 is a leap year\n"
          ],
          "name": "stdout"
        }
      ]
    },
    {
      "cell_type": "markdown",
      "metadata": {
        "id": "ZVx5bdod7Vbi",
        "colab_type": "text"
      },
      "source": [
        "4. Take a string as input, and replaces spaces “ “  with hyphens “-”, and returns a string."
      ]
    },
    {
      "cell_type": "code",
      "metadata": {
        "id": "ylCyocwL5bte",
        "colab_type": "code",
        "colab": {
          "base_uri": "https://localhost:8080/",
          "height": 52
        },
        "outputId": "87bba578-db63-4b8d-9df5-1d7640b7dc7c"
      },
      "source": [
        "st=input(\"Enter any string :\")\n",
        "st=st.replace(' ','-')\n",
        "print(\"string after replacing space with hyphen is = \",st)"
      ],
      "execution_count": null,
      "outputs": [
        {
          "output_type": "stream",
          "text": [
            "Enter any string :This program converts spaces into hyphen\n",
            "string after replacing space with hyphen is =  This-program-converts-spaces-into-hyphen\n"
          ],
          "name": "stdout"
        }
      ]
    },
    {
      "cell_type": "markdown",
      "metadata": {
        "id": "sjz8EYDsAO-F",
        "colab_type": "text"
      },
      "source": [
        "5. Take a string as input that accepts a comma separated sequence of words as input and prints the unique words in sorted form (alphanumerically)"
      ]
    },
    {
      "cell_type": "code",
      "metadata": {
        "id": "dVCtu3QchAn6",
        "colab_type": "code",
        "colab": {
          "base_uri": "https://localhost:8080/",
          "height": 69
        },
        "outputId": "040d99b9-9d17-4ec7-87eb-710a0ddc7b09"
      },
      "source": [
        "s = input(\"enter list of words with commas : \")\n",
        "k = [k for k in s.split(\",\")]\n",
        "print('alphanumerically sorted string is :')\n",
        "print(\",\".join(sorted(list(set(k)))))"
      ],
      "execution_count": null,
      "outputs": [
        {
          "output_type": "stream",
          "text": [
            "enter list of words with commas : orange,white,red,cyan,green,magenta,cyan,pink,white\n",
            "alphanumerically sorted string is :\n",
            "cyan,green,magenta,orange,pink,red,white\n"
          ],
          "name": "stdout"
        }
      ]
    },
    {
      "cell_type": "markdown",
      "metadata": {
        "id": "wQ9z4ud1jFqa",
        "colab_type": "text"
      },
      "source": [
        "6.\tTax Calculator\n",
        "Ask the user for their monthly salary. Calculate whether they have to pay tax and if so, how much is that amount .Print the result\n",
        "![k.png](data:image/png;base64,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)\n"
      ]
    },
    {
      "cell_type": "code",
      "metadata": {
        "id": "dzdslLnIBCAH",
        "colab_type": "code",
        "colab": {
          "base_uri": "https://localhost:8080/",
          "height": 52
        },
        "outputId": "bc0a79a1-caa7-4eb7-d887-b1e18d45ea4f"
      },
      "source": [
        "t={1:0,2:0.05,3:0.1,4:0.15,5:0.2,6:0.25,7:0.3}\n",
        "sa=int(input('please enter your salary : '))\n",
        "if sa<250000:\n",
        "  i=1\n",
        "elif 250001<sa<500000:\n",
        "  i=2\n",
        "elif 500001<sa<750000:\n",
        "  i=3\n",
        "elif 750001<sa<1000000:\n",
        "  i=4\n",
        "elif 1000001<sa<1250000:\n",
        "  i=5\n",
        "elif 1250001<sa<1500000:\n",
        "  i=6\n",
        "else:\n",
        "  i=7\n",
        "sa=sa*t[i]\n",
        "print(\"your tax payablee is\", sa)"
      ],
      "execution_count": null,
      "outputs": [
        {
          "output_type": "stream",
          "text": [
            "please enter your salary : 259000\n",
            "your tax payablee is 12950.0\n"
          ],
          "name": "stdout"
        }
      ]
    },
    {
      "cell_type": "markdown",
      "metadata": {
        "id": "MDPA5aenpuMb",
        "colab_type": "text"
      },
      "source": [
        "7.\tTake a list of integers as an argument, and converts it into a single integer (return the integer)."
      ]
    },
    {
      "cell_type": "code",
      "metadata": {
        "id": "fCHqrpQSpt8m",
        "colab_type": "code",
        "colab": {
          "base_uri": "https://localhost:8080/",
          "height": 136
        },
        "outputId": "3fc648c8-01e6-482a-c1dc-46e3cd95029e"
      },
      "source": [
        "s=[]\n",
        "n=int(input('Enter number of elements :')) \n",
        "print('enter elements :')\n",
        "for i in range(0, n): \n",
        "\te = int(input()) \n",
        "\ts.append(e)\t\n",
        "print('list of integers entered is',s)\n",
        "k=i=0\n",
        "for n in s:\n",
        "  x=n\n",
        "  x=str(x)\n",
        "  l=len(x)\n",
        "  k=n+k*10**l\n",
        "  i+=1\n",
        "print('the list as single integer is - ',k)"
      ],
      "execution_count": null,
      "outputs": [
        {
          "output_type": "stream",
          "text": [
            "Enter number of elements :3\n",
            "enter elements :\n",
            "11\n",
            "33\n",
            "50\n",
            "list of integers entered is [11, 33, 50]\n",
            "the list as single integer is -  113350\n"
          ],
          "name": "stdout"
        }
      ]
    },
    {
      "cell_type": "markdown",
      "metadata": {
        "id": "PXlR3GKZqELz",
        "colab_type": "text"
      },
      "source": [
        "8. Create a program that reads duration from the user as a number of days, hours, minutes, and seconds. Compute and display the total number of seconds represented by this duration"
      ]
    },
    {
      "cell_type": "code",
      "metadata": {
        "id": "v3ixNSejqEvV",
        "colab_type": "code",
        "colab": {
          "base_uri": "https://localhost:8080/",
          "height": 104
        },
        "outputId": "b1c6517a-d2bf-455d-e334-87f25f33f8d9"
      },
      "source": [
        "d=int(input('enter number of days'))\n",
        "h=int(input('enter number of hours'))\n",
        "m=int(input('enter number of minutes'))\n",
        "s=int(input('enter number of seconds'))\n",
        "print('total number of seconds are ',d*86400+h*3600+m*60+s)"
      ],
      "execution_count": null,
      "outputs": [
        {
          "output_type": "stream",
          "text": [
            "enter number of days3\n",
            "enter number of hours13\n",
            "enter number of minutes45\n",
            "enter number of seconds35\n",
            "total number of seconds are  308735\n"
          ],
          "name": "stdout"
        }
      ]
    },
    {
      "cell_type": "markdown",
      "metadata": {
        "id": "rYlYD3BKqFE8",
        "colab_type": "text"
      },
      "source": [
        "9. Given three integers (given through user input), sort the numbers using |min| and  |max| functions."
      ]
    },
    {
      "cell_type": "code",
      "metadata": {
        "id": "5f7hAofPqFTQ",
        "colab_type": "code",
        "colab": {
          "base_uri": "https://localhost:8080/",
          "height": 87
        },
        "outputId": "41500dda-2a37-4337-aa4b-dd8789d47b71"
      },
      "source": [
        "a=int(input('enter first number : '))\n",
        "b=int(input('enter second number : '))\n",
        "c=int(input('enter third number : '))\n",
        "ma=max(a,b,c)\n",
        "mi=min(a,b,c)\n",
        "print('the numbers are shorted in order of: ',mi,a+b+c-(ma+mi),ma)"
      ],
      "execution_count": null,
      "outputs": [
        {
          "output_type": "stream",
          "text": [
            "enter first number : 9\n",
            "enter second number : 2\n",
            "enter third number : 5\n",
            "the numbers are shorted in order of:  2 5 9\n"
          ],
          "name": "stdout"
        }
      ]
    },
    {
      "cell_type": "markdown",
      "metadata": {
        "id": "okt83g9_qGBu",
        "colab_type": "text"
      },
      "source": [
        "10.\tWrite a program that reads a date from the user and computes its immediate successor. The date is the format YYYY-MM-DD. So, 2020-04-15 will have the successor 2020-04-16."
      ]
    },
    {
      "cell_type": "code",
      "metadata": {
        "id": "BRmyUukAqGRQ",
        "colab_type": "code",
        "colab": {
          "base_uri": "https://localhost:8080/",
          "height": 87
        },
        "outputId": "bb48a8e3-a365-4588-ff30-6a3b1f4205ec"
      },
      "source": [
        "y = int(input(\"enter a year: \"))\n",
        "m= int(input(\"Input a month [1-12]: \"))\n",
        "d = int(input(\"Input a day [1-31]: \"))\n",
        "if (y % 4 == 0):\n",
        "  ly = True\n",
        "else:\n",
        "  ly = False\n",
        "if m in (1, 3, 5, 7, 8, 10, 12):\n",
        "  ml= 31\n",
        "elif m == 2:\n",
        "    if ly:\n",
        "        ml= 29\n",
        "    else:\n",
        "        ml = 28\n",
        "else:\n",
        "    ml= 30\n",
        "if d < ml:\n",
        "    d += 1\n",
        "else:\n",
        "    d=1\n",
        "    if m == 12:\n",
        "        m = 1\n",
        "        y += 1\n",
        "    else:\n",
        "        m += 1\n",
        "print(\"The next date : \" ,y,m,d)"
      ],
      "execution_count": null,
      "outputs": [
        {
          "output_type": "stream",
          "text": [
            "enter a year: 2020\n",
            "Input a month [1-12]: 04\n",
            "Input a day [1-31]: 15\n",
            "The next date :  2020 4 16\n"
          ],
          "name": "stdout"
        }
      ]
    },
    {
      "cell_type": "markdown",
      "metadata": {
        "id": "0GB9JzoYqGf2",
        "colab_type": "text"
      },
      "source": [
        "11.\tCompute product of a list of numbers [45 ,3,2,89,72,1,10,7]\n",
        "Output: 121111200\n"
      ]
    },
    {
      "cell_type": "code",
      "metadata": {
        "id": "xnxNXqPQqGtc",
        "colab_type": "code",
        "colab": {
          "base_uri": "https://localhost:8080/",
          "height": 35
        },
        "outputId": "ff738307-6219-4899-8514-45d52db8f204"
      },
      "source": [
        "l=[45,3,2,89,72,1,10,7]\n",
        "r=1\n",
        "for i in l:\n",
        "  r*=i\n",
        "print(\"multiplication of all elements : \",r)"
      ],
      "execution_count": null,
      "outputs": [
        {
          "output_type": "stream",
          "text": [
            "multiplication of all elements :  121111200\n"
          ],
          "name": "stdout"
        }
      ]
    },
    {
      "cell_type": "markdown",
      "metadata": {
        "id": "7HZzwJ24D5ni",
        "colab_type": "text"
      },
      "source": [
        "12.\tCompute given Num_list =  [5, 6,8 ,34,89,1] to get desired output\n",
        "Output: Out_list=[11,14,42,123,90]"
      ]
    },
    {
      "cell_type": "code",
      "metadata": {
        "id": "-opjNA_GqFzU",
        "colab_type": "code",
        "colab": {
          "base_uri": "https://localhost:8080/",
          "height": 191
        },
        "outputId": "a1e178b9-ad54-4707-94f5-1e902458f3f7"
      },
      "source": [
        "l=[]\n",
        "n=int(input('Enter number of elements :')) \n",
        "print('enter elements :')\n",
        "for i in range(0, n): \n",
        "\te = int(input()) \n",
        "\tl.append(e)\n",
        "print('list you have entered is : ',str(l)) \n",
        "s=[] \n",
        "for i in range(1, len(l)): \n",
        "\ts.append(l[i]+l[i-1]) \n",
        "print (\"difference list : \",s) \n"
      ],
      "execution_count": null,
      "outputs": [
        {
          "output_type": "stream",
          "text": [
            "Enter number of elements :6\n",
            "enter elements :\n",
            "5\n",
            "6\n",
            "8\n",
            "34\n",
            "89\n",
            "1\n",
            "list you have entered is :  [5, 6, 8, 34, 89, 1]\n",
            "difference list :  [11, 14, 42, 123, 90]\n"
          ],
          "name": "stdout"
        }
      ]
    },
    {
      "cell_type": "markdown",
      "metadata": {
        "id": "Zxc0K7NEqG7u",
        "colab_type": "text"
      },
      "source": [
        "13. Compute given Num_tuple =  (5, 6,8 ,3,9,1) to get desired output\n",
        "Output: Out_list = [5, 30, 240, 720, 6480, 6480]"
      ]
    },
    {
      "cell_type": "code",
      "metadata": {
        "id": "8ChkgSPIqHKJ",
        "colab_type": "code",
        "colab": {
          "base_uri": "https://localhost:8080/",
          "height": 35
        },
        "outputId": "905376f6-50b2-4832-9687-0ce2dd6595a0"
      },
      "source": [
        "l=(5,6,8,3,9,1)\n",
        "p=[]\n",
        "r=1\n",
        "for i in l:\n",
        "  r*=i\n",
        "  p.append(r)\n",
        "print(\"multiplication list of all elements is : \",p)"
      ],
      "execution_count": null,
      "outputs": [
        {
          "output_type": "stream",
          "text": [
            "multiplication list of all elements is :  [5, 30, 240, 720, 6480, 6480]\n"
          ],
          "name": "stdout"
        }
      ]
    },
    {
      "cell_type": "markdown",
      "metadata": {
        "id": "Jj7LFr5SqFlw",
        "colab_type": "text"
      },
      "source": [
        "14. Write a Python code that takes a number and returns a list of its digits. So for 586392 it should return [5,8,6,3,9,2]"
      ]
    },
    {
      "cell_type": "code",
      "metadata": {
        "id": "A2o8EdIuBoX3",
        "colab_type": "code",
        "colab": {
          "base_uri": "https://localhost:8080/",
          "height": 52
        },
        "outputId": "46382d34-354c-4939-f153-60ed120fd932"
      },
      "source": [
        "n=int(input('enter an integer : '))\n",
        "s=[]\n",
        "for x in str(n):\n",
        "  s.append(int(x))\n",
        "print(s)"
      ],
      "execution_count": null,
      "outputs": [
        {
          "output_type": "stream",
          "text": [
            "enter an integer : 586392\n",
            "[5, 8, 6, 3, 9, 2]\n"
          ],
          "name": "stdout"
        }
      ]
    },
    {
      "cell_type": "markdown",
      "metadata": {
        "id": "W0imYEh0qHWz",
        "colab_type": "text"
      },
      "source": [
        "15.\tWrite a program that finds the longest palindromic substring of a given string"
      ]
    },
    {
      "cell_type": "code",
      "metadata": {
        "id": "y1nBFQomqHjo",
        "colab_type": "code",
        "colab": {
          "base_uri": "https://localhost:8080/",
          "height": 52
        },
        "outputId": "ae522096-3f33-4aa7-885c-e5c5299e345a"
      },
      "source": [
        "class sub(object):\n",
        "   def lp(self, s):\n",
        "      p = [[False for i in range(len(s))] for i in range(len(s))]\n",
        "      for i in range(len(s)):\n",
        "         p[i][i] = True\n",
        "      ml = 1\n",
        "      t = 0\n",
        "      for l in range(2,len(s)+1):\n",
        "         for i in range(len(s)-l+1):\n",
        "            e = i+l\n",
        "            if l==2:\n",
        "               if s[i] == s[e-1]:\n",
        "                  p[i][e-1]=True\n",
        "                  ml = l\n",
        "                  t = i\n",
        "            else:\n",
        "               if s[i] == s[e-1] and p[i+1][e-2]:\n",
        "                  p[i][e-1]=True\n",
        "                  ml = l\n",
        "                  t = i\n",
        "      return s[t:t+ml]\n",
        "st=input(\"enter string : \")\n",
        "ob1 = sub()\n",
        "print(ob1.lp(st))"
      ],
      "execution_count": null,
      "outputs": [
        {
          "output_type": "stream",
          "text": [
            "enter string : beginning\n",
            "inni\n"
          ],
          "name": "stdout"
        }
      ]
    },
    {
      "cell_type": "markdown",
      "metadata": {
        "id": "Uk8RfQj4qHwD",
        "colab_type": "text"
      },
      "source": [
        "16. Substring Check (Bug Funny)\n",
        "Given two binary strings, A (of length 10) and B (of length 5), output 1 if B is a substring of A and 0 otherwise.\n",
        "* First two lines of input:\n",
        "\n",
        "* 1010110010          10110\n",
        "* 1110111011           10011\n",
        "* First two lines of output:\n",
        "1\n",
        "0\n"
      ]
    },
    {
      "cell_type": "code",
      "metadata": {
        "id": "2eSSOB7EqH-H",
        "colab_type": "code",
        "colab": {
          "base_uri": "https://localhost:8080/",
          "height": 69
        },
        "outputId": "313cdf03-11b5-4434-a066-a2f0b03e91cb"
      },
      "source": [
        "s=input(\"Enter binary string:\")\n",
        "ss=input(\"Enter binary substring:\")\n",
        "if(s.find(ss)==-1):\n",
        "      print(\"0\")\n",
        "else:\n",
        "      print(\"1\")"
      ],
      "execution_count": null,
      "outputs": [
        {
          "output_type": "stream",
          "text": [
            "Enter binary string:1010110010\n",
            "Enter binary substring:10110\n",
            "1\n"
          ],
          "name": "stdout"
        }
      ]
    },
    {
      "cell_type": "markdown",
      "metadata": {
        "id": "QQXMwTHdDeZD",
        "colab_type": "text"
      },
      "source": [
        "17.\t  POUR1 - Pouring water\n",
        "Given two vessels, one of which can accommodate a litres of water and the other - b litres of water, determine the number of steps required to obtain exactly c litres of water in one of the vessels.\n",
        "At the beginning both vessels are empty. The following operations are counted as 'steps':\n",
        "*  \temptying a vessel,\n",
        "*  \tfilling a vessel,\n",
        "*  \tpouring water from one vessel to the other, without spilling, until one of the vessels is either full or empty.\n",
        "*   **Input** : An integer t, 1<=t<=100, denoting the number of testcases , followed by t sets of input data, each consisting of three positive integers a, b, c, not larger than 40000, given in separate lines.\n",
        "*   **Output** : For each set of input data, output the minimum number of steps required to obtain c litres, or -1 if this is impossible."
      ]
    },
    {
      "cell_type": "code",
      "metadata": {
        "id": "23P_usu04kkM",
        "colab_type": "code",
        "colab": {
          "base_uri": "https://localhost:8080/",
          "height": 104
        },
        "outputId": "07c92361-fdbd-41b9-ff35-5169a08d6cd1"
      },
      "source": [
        "def gcd(a,b):\n",
        "    if b==0: \n",
        "        return a \n",
        "    return gcd(b,a%b) \n",
        "def steps(a,b,c): \n",
        "    v1=b\n",
        "    v2=0\n",
        "    co=1\n",
        "    while ((v1 is not c) and (v2 is not c)): \n",
        "        t=min(v1,a-v2) \n",
        "        v2=v2+t \n",
        "        v1=v1-t \n",
        "        co+=1\n",
        "        if ((v2==c)or(v1==c)): \n",
        "            break\n",
        "        if v1==0: \n",
        "            v1=b \n",
        "            co+=1\n",
        "        if v2==a: \n",
        "            v2=0\n",
        "            co+=1\n",
        "    return co \n",
        "def ispos(a,b,c): \n",
        "    if a>b: \n",
        "        t=a \n",
        "        a=b \n",
        "        b=t \n",
        "    if c>b: \n",
        "        return -1\n",
        "    if (c%(gcd(b,a)) is not 0): \n",
        "        return -1\n",
        "    return(min(steps(b,a,c),steps(a,b,c)))\n",
        "t=int(input(\"Enter no of testcases : \"))\n",
        "for i in range(t):\n",
        "  a=int(input(\"Enter number of liters in vessel a : \"))\n",
        "  b=int(input(\"Enter number of liters in vessel b : \"))\n",
        "  c=int(input(\"Enter number of liters to be obtained :\"))\n",
        "  print(\"Minimum number of steps required to fill the vessel c is : \",ispos(a,b,c))"
      ],
      "execution_count": 3,
      "outputs": [
        {
          "output_type": "stream",
          "text": [
            "Enter no of testcases : 1\n",
            "Enter number of liters in vessel a : 2\n",
            "Enter number of liters in vessel b : 9\n",
            "Enter number of liters to be obtained :5\n",
            "Minimum number of steps required to fill the vessel c is :  4\n"
          ],
          "name": "stdout"
        }
      ]
    }
  ]
}